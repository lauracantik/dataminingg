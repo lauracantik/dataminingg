{
  "nbformat": 4,
  "nbformat_minor": 0,
  "metadata": {
    "colab": {
      "provenance": [],
      "collapsed_sections": [],
      "authorship_tag": "ABX9TyPfINXPfCgHPGwOpi/2aWnN",
      "include_colab_link": true
    },
    "kernelspec": {
      "name": "python3",
      "display_name": "Python 3"
    },
    "language_info": {
      "name": "python"
    }
  },
  "cells": [
    {
      "cell_type": "markdown",
      "metadata": {
        "id": "view-in-github",
        "colab_type": "text"
      },
      "source": [
        "<a href=\"https://colab.research.google.com/github/lauracantik/dataminingg/blob/main/TugasPertemuan3_DML_Kelompok6.ipynb\" target=\"_parent\"><img src=\"https://colab.research.google.com/assets/colab-badge.svg\" alt=\"Open In Colab\"/></a>"
      ]
    },
    {
      "cell_type": "code",
      "execution_count": null,
      "metadata": {
        "colab": {
          "base_uri": "https://localhost:8080/"
        },
        "id": "rGPMvobYDmrj",
        "outputId": "925b81e2-0603-438d-fb91-84a959e87da4"
      },
      "outputs": [
        {
          "output_type": "stream",
          "name": "stdout",
          "text": [
            "PROGRAM PYTHON MENGHITUNG NILAI RATA-RATA\n",
            "\n",
            "Banyaknya Data: 4\n",
            "\n",
            "Masukkan data ke-1: 45\n",
            "Masukkan data ke-2: 23\n",
            "Masukkan data ke-3: 71\n",
            "Masukkan data ke-4: 81\n",
            "\n",
            "Rata-rata  = 55.00\n"
          ]
        }
      ],
      "source": [
        "print(\"PROGRAM PYTHON MENGHITUNG NILAI RATA-RATA\")\n",
        "\n",
        "n = int(input(\"\\nBanyaknya Data: \"))\n",
        "\n",
        "print() #Membuat baris baru\n",
        "data = []\n",
        "jum = 0\n",
        "\n",
        "for i in range(0, n):\n",
        "    temp = int(input(\"Masukkan data ke-%d: \" % (i+1)))\n",
        "    data.append(temp)\n",
        "    jum += data[i]\n",
        "    rata2 = jum / n\n",
        "\n",
        "print(\"\\nRata-rata  = %0.2f\" % rata2)"
      ]
    },
    {
      "cell_type": "code",
      "source": [
        "print(\"PROGRAM PYTHON MENCARI NILAI HARGA SETELAH DISCOUNT\")\n",
        "\n",
        "n = int(input(\"\\nBanyaknya Barang: \"))\n",
        "\n",
        "print() #Membuat baris baru\n",
        "data = []\n",
        "jum = 0\n",
        "\n",
        "for i in range(0, n):\n",
        "    temp = int(input(\"Masukkan Harga Barang ke-%d: \" % (i+1)))\n",
        "    data.append(temp)\n",
        "    jum += data[i]\n",
        "print('discount 10% = 0.1')\n",
        "setelah_diskon = total - diskon\n",
        "print('harga discount = {}'.format (int (diskon) ) )\n",
        "print('harga setelah discount = {}'.format (int (setelah_diskon) ) )\n"
      ],
      "metadata": {
        "colab": {
          "base_uri": "https://localhost:8080/"
        },
        "id": "g77B6PDkPpsU",
        "outputId": "137b6084-0d40-41ba-e4ff-279e751a16c5"
      },
      "execution_count": 14,
      "outputs": [
        {
          "output_type": "stream",
          "name": "stdout",
          "text": [
            "PROGRAM PYTHON MENCARI NILAI HARGA SETELAH DISCOUNT\n",
            "\n",
            "Banyaknya Barang: 1\n",
            "\n",
            "Masukkan Harga Barang ke-1: 1000000\n",
            "discount 10% = 0.1\n",
            "harga discount = 100000\n",
            "harga setelah discount = 900000\n"
          ]
        }
      ]
    },
    {
      "cell_type": "code",
      "source": [
        "print(\"===========================================\")\n",
        "print(\"         Program Menghitung Diskon         \")\n",
        "print(\"===========================================\")\n",
        "harga_asli     = int(input('Masukkan Total Harga = '))\n",
        "persen_discount  = int(input('Masukkan Presentase Discount (%): '))\n",
        "\n",
        "hitung_discount  = harga_asli * (persen_discount/100)\n",
        "setelah_discount = harga_asli - hitung_discount\n",
        "\n",
        "print(\"Total Harga Setelah Discount\" ,persen_discount,\"% adalah\",setelah_discount)\n"
      ],
      "metadata": {
        "colab": {
          "base_uri": "https://localhost:8080/"
        },
        "id": "BqM-8mQzRTlD",
        "outputId": "d8f22911-4791-4843-8cc7-2cd5eefe4793"
      },
      "execution_count": 13,
      "outputs": [
        {
          "output_type": "stream",
          "name": "stdout",
          "text": [
            "===========================================\n",
            "         Program Menghitung Diskon         \n",
            "===========================================\n",
            "Masukkan Total Harga = 1000000\n",
            "Masukkan Presentase Discount (%): 10\n",
            "Total Harga Setelah Discount 10 % adalah 900000.0\n"
          ]
        }
      ]
    }
  ]
}