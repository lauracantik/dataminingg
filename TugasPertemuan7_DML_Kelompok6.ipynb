{
  "nbformat": 4,
  "nbformat_minor": 0,
  "metadata": {
    "colab": {
      "provenance": [],
      "authorship_tag": "ABX9TyNzXOkvwMFwIYjrORvyV/5O",
      "include_colab_link": true
    },
    "kernelspec": {
      "name": "python3",
      "display_name": "Python 3"
    },
    "language_info": {
      "name": "python"
    }
  },
  "cells": [
    {
      "cell_type": "markdown",
      "metadata": {
        "id": "view-in-github",
        "colab_type": "text"
      },
      "source": [
        "<a href=\"https://colab.research.google.com/github/lauracantik/dataminingg/blob/main/TugasPertemuan7_DML_Kelompok6.ipynb\" target=\"_parent\"><img src=\"https://colab.research.google.com/assets/colab-badge.svg\" alt=\"Open In Colab\"/></a>"
      ]
    },
    {
      "cell_type": "code",
      "execution_count": 38,
      "metadata": {
        "colab": {
          "base_uri": "https://localhost:8080/"
        },
        "id": "Fast08EVoP-1",
        "outputId": "c9a8501d-8c28-4d26-9dbf-7a15272de5f4"
      },
      "outputs": [
        {
          "output_type": "stream",
          "name": "stdout",
          "text": [
            "Penjumlahan  =  [3 4 5 6 7]\n",
            "Pengurangan  =  [-1  0  1  2  3]\n",
            "Perkalian    =  [ 2  4  6  8 10]\n",
            "Pembagian    =  [0.5 1.  1.5 2.  2.5]\n",
            "Perpangkatan =  [ 1  4  9 16 25]\n"
          ]
        }
      ],
      "source": [
        "arr_A = np.array([1,2,3,4,5])\n",
        "arr_B = np.array([2,2,2,2,2])\n",
        "\n",
        "print(\"Penjumlahan  = \", arr_A + arr_B)\n",
        "print(\"Pengurangan  = \", arr_A - arr_B)\n",
        "print(\"Perkalian    = \", arr_A * arr_B)\n",
        "print(\"Pembagian    = \", arr_A / arr_B)\n",
        "print(\"Perpangkatan = \", arr_A ** arr_B)"
      ]
    },
    {
      "cell_type": "code",
      "source": [
        "a = 5\n",
        "b = 2\n",
        " \n",
        "penjumlahan = a+b\n",
        "pengurangan = a-b\n",
        "perkalian = a*b\n",
        "pembagian = a/b\n",
        "sisa_bagi = a%b\n",
        "pangkat = a**b\n",
        " \n",
        "print(\"Penjulahan = \", penjumlahan)\n",
        "print(\"Pengurangan = \",pengurangan)\n",
        "print(\"perkalian =\", perkalian)\n",
        "print(\"Pembagian  = \", pembagian)\n",
        "print(\"Sisa Bagi = \",sisa_bagi)\n",
        "print(\"Pangkat = \", pangkat)"
      ],
      "metadata": {
        "id": "FwlSxmdWt-hW"
      },
      "execution_count": null,
      "outputs": []
    },
    {
      "cell_type": "code",
      "source": [
        "import numpy as np\n",
        "\n",
        "arrku = np.array([1,2,3,4,5])\n",
        "print(\"Nilai Minimal    = \", arrku.min())\n",
        "print(\"Nilai Maksimal   = \", arrku.max())\n",
        "print(\"Nilai Rata-rata  = \", arrku.mean())\n",
        "print(\"Total Nilai      = \", arrku.sum())\n",
        "\n",
        "print(\"Standar Deviasi  = \", arrku.std())"
      ],
      "metadata": {
        "colab": {
          "base_uri": "https://localhost:8080/"
        },
        "id": "yjk4vbZIonJp",
        "outputId": "9bd8b345-8014-49b7-cfea-be4d73dbe6bb"
      },
      "execution_count": 13,
      "outputs": [
        {
          "output_type": "stream",
          "name": "stdout",
          "text": [
            "Nilai Minimal    =  1\n",
            "Nilai Maksimal   =  5\n",
            "Nilai Rata-rata  =  3.0\n",
            "Total Nilai      =  15\n",
            "Standar Deviasi  =  1.4142135623730951\n"
          ]
        }
      ]
    },
    {
      "cell_type": "code",
      "source": [
        "print(\"Index Nilai Niminal    = \", arrku.argmin())\n",
        "print(\"Index Nilai Maksimal   = \", arrku.argmax())"
      ],
      "metadata": {
        "colab": {
          "base_uri": "https://localhost:8080/"
        },
        "id": "fbWB7BUjqhtS",
        "outputId": "0d6aabbc-8b33-4df3-cd0d-7eebc6b916f0"
      },
      "execution_count": 14,
      "outputs": [
        {
          "output_type": "stream",
          "name": "stdout",
          "text": [
            "Index Nilai Niminal    =  0\n",
            "Index Nilai Maksimal   =  4\n"
          ]
        }
      ]
    },
    {
      "cell_type": "code",
      "source": [
        "\n",
        "np.zeros    (5) # membuat array dengan nilai 0 sebanyak 5\n",
        "np.ones     (5) # membuat array dengan nilai 1 sebanyak 5\n",
        "np.arange   (1, 10, 2) #arange(start, stop, step)\n",
        "np.linspace (1, 10, 2) # linespace(start, stop, number)\n",
        "np.logspace (1, 10, 2) # logspace(start, stop, number)\n",
        "\n"
      ],
      "metadata": {
        "colab": {
          "base_uri": "https://localhost:8080/"
        },
        "id": "eRLwOswqqv7f",
        "outputId": "9d90250d-e3ae-491c-c973-33f2b689ce6d"
      },
      "execution_count": 29,
      "outputs": [
        {
          "output_type": "execute_result",
          "data": {
            "text/plain": [
              "array([1.e+01, 1.e+10])"
            ]
          },
          "metadata": {},
          "execution_count": 29
        }
      ]
    }
  ]
}