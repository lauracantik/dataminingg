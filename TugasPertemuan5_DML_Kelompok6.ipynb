{
  "nbformat": 4,
  "nbformat_minor": 0,
  "metadata": {
    "colab": {
      "provenance": [],
      "collapsed_sections": [],
      "authorship_tag": "ABX9TyOlDbXwVoq5ZA+1wJ0H0snh",
      "include_colab_link": true
    },
    "kernelspec": {
      "name": "python3",
      "display_name": "Python 3"
    },
    "language_info": {
      "name": "python"
    }
  },
  "cells": [
    {
      "cell_type": "markdown",
      "metadata": {
        "id": "view-in-github",
        "colab_type": "text"
      },
      "source": [
        "<a href=\"https://colab.research.google.com/github/lauracantik/dataminingg/blob/main/TugasPertemuan5_DML_Kelompok6.ipynb\" target=\"_parent\"><img src=\"https://colab.research.google.com/assets/colab-badge.svg\" alt=\"Open In Colab\"/></a>"
      ]
    },
    {
      "cell_type": "code",
      "execution_count": 2,
      "metadata": {
        "colab": {
          "base_uri": "https://localhost:8080/"
        },
        "id": "rGPMvobYDmrj",
        "outputId": "60d43a25-6bb7-4372-9a36-9d6281c08c85"
      },
      "outputs": [
        {
          "output_type": "stream",
          "name": "stdout",
          "text": [
            "PROGRAM PYTHON MENGHITUNG NILAI RATA-RATA\n",
            "\n",
            "Banyaknya Data: 2\n",
            "\n",
            "Masukkan data ke-1: 200000\n",
            "Masukkan data ke-2: 200000\n",
            "\n",
            "Rata-rata  = 200000.00\n"
          ]
        }
      ],
      "source": [
        "print(\"PROGRAM PYTHON MENGHITUNG NILAI RATA-RATA\")\n",
        "\n",
        "n = int(input(\"\\nBanyaknya Data: \"))\n",
        "\n",
        "print() #Membuat baris baru\n",
        "data = []\n",
        "jum = 0\n",
        "\n",
        "for i in range(0, n):\n",
        "    temp = int(input(\"Masukkan data ke-%d: \" % (i+1)))\n",
        "    data.append(temp)\n",
        "    jum += data[i]\n",
        "    rata2 = jum / n\n",
        "\n",
        "print(\"\\nRata-rata  = %0.2f\" % rata2)"
      ]
    },
    {
      "cell_type": "code",
      "source": [
        "print(\"PROGRAM PYTHON MENCARI NILAI HARGA SETELAH DISCOUNT\")\n",
        "\n",
        "n = int(input(\"\\nBanyaknya Barang: \"))\n",
        "\n",
        "print() #Membuat baris baru\n",
        "data = []\n",
        "jum = 0\n",
        "\n",
        "\n",
        "for i in range(0, n):\n",
        "    temp = int(input(\"Masukkan Harga Barang ke-%d: \" % (i+1)))\n",
        "    data.append(temp)\n",
        "    jum += data[i]\n",
        "\n",
        "diskon = int(input(\"Masukkan Diskon: \"))\n",
        "\n",
        "print('discount = ', diskon)\n",
        "harga_diskon = ((diskon/100) * jum)\n",
        "setelah_diskon = jum - harga_diskon\n",
        "print('harga discount = {}'.format (int (harga_diskon) ) )\n",
        "print('harga setelah discount = {}'.format (int (setelah_diskon) ) )\n"
      ],
      "metadata": {
        "colab": {
          "base_uri": "https://localhost:8080/"
        },
        "id": "g77B6PDkPpsU",
        "outputId": "48cfdc57-1423-4dac-e873-da4862089583"
      },
      "execution_count": 7,
      "outputs": [
        {
          "output_type": "stream",
          "name": "stdout",
          "text": [
            "PROGRAM PYTHON MENCARI NILAI HARGA SETELAH DISCOUNT\n",
            "\n",
            "Banyaknya Barang: 1\n",
            "\n",
            "Masukkan Harga Barang ke-1: 10000000\n",
            "Masukkan Diskon: 25\n",
            "discount =  25\n",
            "harga discount = 2500000\n",
            "harga setelah discount = 7500000\n"
          ]
        }
      ]
    },
    {
      "cell_type": "code",
      "source": [
        "print(\"===========================================\")\n",
        "print(\"         Program Menghitung Diskon         \")\n",
        "print(\"===========================================\")\n",
        "harga_asli     = int(input('Masukkan Total Harga = '))\n",
        "persen_discount  = int(input('Masukkan Presentase Discount (%): '))\n",
        "\n",
        "hitung_discount  = harga_asli * (persen_discount/100)\n",
        "setelah_discount = harga_asli - hitung_discount\n",
        "\n",
        "print(\"Total Harga Setelah Discount\" ,persen_discount,\"% adalah\",setelah_discount)\n"
      ],
      "metadata": {
        "colab": {
          "base_uri": "https://localhost:8080/"
        },
        "id": "BqM-8mQzRTlD",
        "outputId": "d8f22911-4791-4843-8cc7-2cd5eefe4793"
      },
      "execution_count": null,
      "outputs": [
        {
          "output_type": "stream",
          "name": "stdout",
          "text": [
            "===========================================\n",
            "         Program Menghitung Diskon         \n",
            "===========================================\n",
            "Masukkan Total Harga = 1000000\n",
            "Masukkan Presentase Discount (%): 10\n",
            "Total Harga Setelah Discount 10 % adalah 900000.0\n"
          ]
        }
      ]
    }
  ]
}