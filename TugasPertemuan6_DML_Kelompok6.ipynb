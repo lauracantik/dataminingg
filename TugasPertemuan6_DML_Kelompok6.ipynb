{
  "nbformat": 4,
  "nbformat_minor": 0,
  "metadata": {
    "colab": {
      "provenance": [],
      "authorship_tag": "ABX9TyPK/xQTH1PHLXgjpNiJKuAN",
      "include_colab_link": true
    },
    "kernelspec": {
      "name": "python3",
      "display_name": "Python 3"
    },
    "language_info": {
      "name": "python"
    }
  },
  "cells": [
    {
      "cell_type": "markdown",
      "metadata": {
        "id": "view-in-github",
        "colab_type": "text"
      },
      "source": [
        "<a href=\"https://colab.research.google.com/github/lauracantik/dataminingg/blob/main/TugasPertemuan6_DML_Kelompok6.ipynb\" target=\"_parent\"><img src=\"https://colab.research.google.com/assets/colab-badge.svg\" alt=\"Open In Colab\"/></a>"
      ]
    },
    {
      "cell_type": "code",
      "execution_count": 3,
      "metadata": {
        "id": "5fdSx5D0LU0d"
      },
      "outputs": [],
      "source": [
        "# fungsi untuk menampilkan menu\n",
        "def show_menu():\n",
        " print (\"\\n\")\n",
        " print (\"----------- MENU ----------\")\n",
        " print (\"[1] Show Data\")\n",
        " print (\"[2] Insert Data\")\n",
        " print (\"[3] Edit Data\")\n",
        " print (\"[4] Delete Data\")\n",
        " print (\"[5] Exit\")\n",
        "\n",
        " menu = input(\"PILIH MENU> \")\n",
        " print (\"\\n\")\n",
        " if menu == 1:\n",
        "    show_data()\n",
        " elif menu == 2:\n",
        "    insert_data()\n",
        " elif menu == 3:\n",
        "    edit_data()\n",
        " elif menu == 4:\n",
        "    delete_data()\n",
        " elif menu == 5:\n",
        "    exit()\n",
        " else:\n",
        "    print (\"Salah pilih!\")"
      ]
    },
    {
      "cell_type": "code",
      "source": [
        "if __name__ == \"__main__\":\n",
        " while(True):\n",
        "  show_menu()"
      ],
      "metadata": {
        "colab": {
          "base_uri": "https://localhost:8080/",
          "height": 1000
        },
        "id": "J9sJO6V8NKBk",
        "outputId": "e33f42f7-5ec1-4873-d987-9b638a7c5b11"
      },
      "execution_count": 5,
      "outputs": [
        {
          "output_type": "stream",
          "name": "stdout",
          "text": [
            "\n",
            "\n",
            "----------- MENU ----------\n",
            "[1] Show Data\n",
            "[2] Insert Data\n",
            "[3] Edit Data\n",
            "[4] Delete Data\n",
            "[5] Exit\n",
            "PILIH MENU> 1\n",
            "\n",
            "\n",
            "Salah pilih!\n",
            "\n",
            "\n",
            "----------- MENU ----------\n",
            "[1] Show Data\n",
            "[2] Insert Data\n",
            "[3] Edit Data\n",
            "[4] Delete Data\n",
            "[5] Exit\n",
            "PILIH MENU> 2\n",
            "\n",
            "\n",
            "Salah pilih!\n",
            "\n",
            "\n",
            "----------- MENU ----------\n",
            "[1] Show Data\n",
            "[2] Insert Data\n",
            "[3] Edit Data\n",
            "[4] Delete Data\n",
            "[5] Exit\n",
            "PILIH MENU> 3\n",
            "\n",
            "\n",
            "Salah pilih!\n",
            "\n",
            "\n",
            "----------- MENU ----------\n",
            "[1] Show Data\n",
            "[2] Insert Data\n",
            "[3] Edit Data\n",
            "[4] Delete Data\n",
            "[5] Exit\n",
            "PILIH MENU> 4\n",
            "\n",
            "\n",
            "Salah pilih!\n",
            "\n",
            "\n",
            "----------- MENU ----------\n",
            "[1] Show Data\n",
            "[2] Insert Data\n",
            "[3] Edit Data\n",
            "[4] Delete Data\n",
            "[5] Exit\n",
            "PILIH MENU> 5\n",
            "\n",
            "\n",
            "Salah pilih!\n",
            "\n",
            "\n",
            "----------- MENU ----------\n",
            "[1] Show Data\n",
            "[2] Insert Data\n",
            "[3] Edit Data\n",
            "[4] Delete Data\n",
            "[5] Exit\n"
          ]
        },
        {
          "output_type": "error",
          "ename": "KeyboardInterrupt",
          "evalue": "ignored",
          "traceback": [
            "\u001b[0;31m---------------------------------------------------------------------------\u001b[0m",
            "\u001b[0;31mKeyboardInterrupt\u001b[0m                         Traceback (most recent call last)",
            "\u001b[0;32m<ipython-input-5-50c1bb31e526>\u001b[0m in \u001b[0;36m<module>\u001b[0;34m\u001b[0m\n\u001b[1;32m      1\u001b[0m \u001b[0;32mif\u001b[0m \u001b[0m__name__\u001b[0m \u001b[0;34m==\u001b[0m \u001b[0;34m\"__main__\"\u001b[0m\u001b[0;34m:\u001b[0m\u001b[0;34m\u001b[0m\u001b[0;34m\u001b[0m\u001b[0m\n\u001b[1;32m      2\u001b[0m  \u001b[0;32mwhile\u001b[0m\u001b[0;34m(\u001b[0m\u001b[0;32mTrue\u001b[0m\u001b[0;34m)\u001b[0m\u001b[0;34m:\u001b[0m\u001b[0;34m\u001b[0m\u001b[0;34m\u001b[0m\u001b[0m\n\u001b[0;32m----> 3\u001b[0;31m   \u001b[0mshow_menu\u001b[0m\u001b[0;34m(\u001b[0m\u001b[0;34m)\u001b[0m\u001b[0;34m\u001b[0m\u001b[0;34m\u001b[0m\u001b[0m\n\u001b[0m",
            "\u001b[0;32m<ipython-input-3-8eaacba8ff2a>\u001b[0m in \u001b[0;36mshow_menu\u001b[0;34m()\u001b[0m\n\u001b[1;32m      9\u001b[0m  \u001b[0mprint\u001b[0m \u001b[0;34m(\u001b[0m\u001b[0;34m\"[5] Exit\"\u001b[0m\u001b[0;34m)\u001b[0m\u001b[0;34m\u001b[0m\u001b[0;34m\u001b[0m\u001b[0m\n\u001b[1;32m     10\u001b[0m \u001b[0;34m\u001b[0m\u001b[0m\n\u001b[0;32m---> 11\u001b[0;31m  \u001b[0mmenu\u001b[0m \u001b[0;34m=\u001b[0m \u001b[0minput\u001b[0m\u001b[0;34m(\u001b[0m\u001b[0;34m\"PILIH MENU> \"\u001b[0m\u001b[0;34m)\u001b[0m\u001b[0;34m\u001b[0m\u001b[0;34m\u001b[0m\u001b[0m\n\u001b[0m\u001b[1;32m     12\u001b[0m  \u001b[0mprint\u001b[0m \u001b[0;34m(\u001b[0m\u001b[0;34m\"\\n\"\u001b[0m\u001b[0;34m)\u001b[0m\u001b[0;34m\u001b[0m\u001b[0;34m\u001b[0m\u001b[0m\n\u001b[1;32m     13\u001b[0m  \u001b[0;32mif\u001b[0m \u001b[0mmenu\u001b[0m \u001b[0;34m==\u001b[0m \u001b[0;36m1\u001b[0m\u001b[0;34m:\u001b[0m\u001b[0;34m\u001b[0m\u001b[0;34m\u001b[0m\u001b[0m\n",
            "\u001b[0;32m/usr/local/lib/python3.7/dist-packages/ipykernel/kernelbase.py\u001b[0m in \u001b[0;36mraw_input\u001b[0;34m(self, prompt)\u001b[0m\n\u001b[1;32m    861\u001b[0m             \u001b[0mself\u001b[0m\u001b[0;34m.\u001b[0m\u001b[0m_parent_ident\u001b[0m\u001b[0;34m,\u001b[0m\u001b[0;34m\u001b[0m\u001b[0;34m\u001b[0m\u001b[0m\n\u001b[1;32m    862\u001b[0m             \u001b[0mself\u001b[0m\u001b[0;34m.\u001b[0m\u001b[0m_parent_header\u001b[0m\u001b[0;34m,\u001b[0m\u001b[0;34m\u001b[0m\u001b[0;34m\u001b[0m\u001b[0m\n\u001b[0;32m--> 863\u001b[0;31m             \u001b[0mpassword\u001b[0m\u001b[0;34m=\u001b[0m\u001b[0;32mFalse\u001b[0m\u001b[0;34m,\u001b[0m\u001b[0;34m\u001b[0m\u001b[0;34m\u001b[0m\u001b[0m\n\u001b[0m\u001b[1;32m    864\u001b[0m         )\n\u001b[1;32m    865\u001b[0m \u001b[0;34m\u001b[0m\u001b[0m\n",
            "\u001b[0;32m/usr/local/lib/python3.7/dist-packages/ipykernel/kernelbase.py\u001b[0m in \u001b[0;36m_input_request\u001b[0;34m(self, prompt, ident, parent, password)\u001b[0m\n\u001b[1;32m    902\u001b[0m             \u001b[0;32mexcept\u001b[0m \u001b[0mKeyboardInterrupt\u001b[0m\u001b[0;34m:\u001b[0m\u001b[0;34m\u001b[0m\u001b[0;34m\u001b[0m\u001b[0m\n\u001b[1;32m    903\u001b[0m                 \u001b[0;31m# re-raise KeyboardInterrupt, to truncate traceback\u001b[0m\u001b[0;34m\u001b[0m\u001b[0;34m\u001b[0m\u001b[0;34m\u001b[0m\u001b[0m\n\u001b[0;32m--> 904\u001b[0;31m                 \u001b[0;32mraise\u001b[0m \u001b[0mKeyboardInterrupt\u001b[0m\u001b[0;34m(\u001b[0m\u001b[0;34m\"Interrupted by user\"\u001b[0m\u001b[0;34m)\u001b[0m \u001b[0;32mfrom\u001b[0m \u001b[0;32mNone\u001b[0m\u001b[0;34m\u001b[0m\u001b[0;34m\u001b[0m\u001b[0m\n\u001b[0m\u001b[1;32m    905\u001b[0m             \u001b[0;32mexcept\u001b[0m \u001b[0mException\u001b[0m \u001b[0;32mas\u001b[0m \u001b[0me\u001b[0m\u001b[0;34m:\u001b[0m\u001b[0;34m\u001b[0m\u001b[0;34m\u001b[0m\u001b[0m\n\u001b[1;32m    906\u001b[0m                 \u001b[0mself\u001b[0m\u001b[0;34m.\u001b[0m\u001b[0mlog\u001b[0m\u001b[0;34m.\u001b[0m\u001b[0mwarning\u001b[0m\u001b[0;34m(\u001b[0m\u001b[0;34m\"Invalid Message:\"\u001b[0m\u001b[0;34m,\u001b[0m \u001b[0mexc_info\u001b[0m\u001b[0;34m=\u001b[0m\u001b[0;32mTrue\u001b[0m\u001b[0;34m)\u001b[0m\u001b[0;34m\u001b[0m\u001b[0;34m\u001b[0m\u001b[0m\n",
            "\u001b[0;31mKeyboardInterrupt\u001b[0m: Interrupted by user"
          ]
        }
      ]
    },
    {
      "cell_type": "code",
      "source": [
        "# Variabel global untuk menyimpan data Buku\n",
        "buku = []\n",
        "\n",
        "# fungsi untuk menampilkan semua data\n",
        "def show_data():\n",
        " if len(buku) <= 0:\n",
        "  print (\"BELUM ADA DATA\")\n",
        "\n",
        " else:\n",
        "  for indeks in range(len(buku)):\n",
        "    print (\"[%d] %s\" % (indeks, buku[indeks]))\n",
        "\n",
        "# fungsi untuk menambah data\n",
        "def insert_data():\n",
        "  buku_baru = raw_input(\"Judul Buku: \")\n",
        "  buku.append(buku_baru)\n",
        "\n",
        "# fungsi untuk edit data\n",
        "def edit_data():\n",
        " show_data()\n",
        " indeks = input(\"Inputkan ID buku: \")\n",
        " if(indeks > len(buku)):\n",
        "  print (\"ID salah\")\n",
        "\n",
        " else:\n",
        "  judul_baru = raw_input(\"Judul baru: \")\n",
        "  buku[indeks] = judul_baru\n",
        "\n",
        "# fungsi untuk menhapus data\n",
        "def delete_data():\n",
        " show_data()\n",
        " indeks = input(\"Inputkan ID buku: \")\n",
        " if(indeks > len(buku)):\n",
        "    print (\"ID salah\")\n",
        "\n",
        " else:\n",
        "    buku.remove(buku[indeks])\n",
        "\n",
        "# fungsi untuk menampilkan menu\n",
        "def show_menu():\n",
        " print (\"\\n\")\n",
        " print (\"----------- MENU ----------\")\n",
        " print (\"[1] Show Data\")\n",
        " print (\"[2] Insert Data\")\n",
        " print (\"[3] Edit Data\")\n",
        " print (\"[4] Delete Data\")\n",
        " print (\"[5] Exit\")\n",
        "\n",
        " menu = input(\"PILIH MENU> \")\n",
        " print (\"\\n\")\n",
        " if menu == 1:\n",
        "    show_data()"
      ],
      "metadata": {
        "id": "tndLLhInNbly"
      },
      "execution_count": 8,
      "outputs": []
    },
    {
      "cell_type": "code",
      "source": [
        "if __name__ == \"__main__\":\n",
        " while(True):\n",
        "  show_menu()"
      ],
      "metadata": {
        "colab": {
          "base_uri": "https://localhost:8080/",
          "height": 1000
        },
        "id": "4xUPwIf9Ogr0",
        "outputId": "f0d59429-3368-443b-c38c-6b8167050acc"
      },
      "execution_count": 9,
      "outputs": [
        {
          "output_type": "stream",
          "name": "stdout",
          "text": [
            "\n",
            "\n",
            "----------- MENU ----------\n",
            "[1] Show Data\n",
            "[2] Insert Data\n",
            "[3] Edit Data\n",
            "[4] Delete Data\n",
            "[5] Exit\n",
            "PILIH MENU> 1\n",
            "\n",
            "\n",
            "\n",
            "\n",
            "----------- MENU ----------\n",
            "[1] Show Data\n",
            "[2] Insert Data\n",
            "[3] Edit Data\n",
            "[4] Delete Data\n",
            "[5] Exit\n",
            "PILIH MENU> 2\n",
            "\n",
            "\n",
            "\n",
            "\n",
            "----------- MENU ----------\n",
            "[1] Show Data\n",
            "[2] Insert Data\n",
            "[3] Edit Data\n",
            "[4] Delete Data\n",
            "[5] Exit\n",
            "PILIH MENU> 3\n",
            "\n",
            "\n",
            "\n",
            "\n",
            "----------- MENU ----------\n",
            "[1] Show Data\n",
            "[2] Insert Data\n",
            "[3] Edit Data\n",
            "[4] Delete Data\n",
            "[5] Exit\n",
            "PILIH MENU> 1\n",
            "\n",
            "\n",
            "\n",
            "\n",
            "----------- MENU ----------\n",
            "[1] Show Data\n",
            "[2] Insert Data\n",
            "[3] Edit Data\n",
            "[4] Delete Data\n",
            "[5] Exit\n"
          ]
        },
        {
          "output_type": "error",
          "ename": "KeyboardInterrupt",
          "evalue": "ignored",
          "traceback": [
            "\u001b[0;31m---------------------------------------------------------------------------\u001b[0m",
            "\u001b[0;31mKeyboardInterrupt\u001b[0m                         Traceback (most recent call last)",
            "\u001b[0;32m<ipython-input-9-50c1bb31e526>\u001b[0m in \u001b[0;36m<module>\u001b[0;34m\u001b[0m\n\u001b[1;32m      1\u001b[0m \u001b[0;32mif\u001b[0m \u001b[0m__name__\u001b[0m \u001b[0;34m==\u001b[0m \u001b[0;34m\"__main__\"\u001b[0m\u001b[0;34m:\u001b[0m\u001b[0;34m\u001b[0m\u001b[0;34m\u001b[0m\u001b[0m\n\u001b[1;32m      2\u001b[0m  \u001b[0;32mwhile\u001b[0m\u001b[0;34m(\u001b[0m\u001b[0;32mTrue\u001b[0m\u001b[0;34m)\u001b[0m\u001b[0;34m:\u001b[0m\u001b[0;34m\u001b[0m\u001b[0;34m\u001b[0m\u001b[0m\n\u001b[0;32m----> 3\u001b[0;31m   \u001b[0mshow_menu\u001b[0m\u001b[0;34m(\u001b[0m\u001b[0;34m)\u001b[0m\u001b[0;34m\u001b[0m\u001b[0;34m\u001b[0m\u001b[0m\n\u001b[0m",
            "\u001b[0;32m<ipython-input-8-d333bd46180f>\u001b[0m in \u001b[0;36mshow_menu\u001b[0;34m()\u001b[0m\n\u001b[1;32m     47\u001b[0m  \u001b[0mprint\u001b[0m \u001b[0;34m(\u001b[0m\u001b[0;34m\"[5] Exit\"\u001b[0m\u001b[0;34m)\u001b[0m\u001b[0;34m\u001b[0m\u001b[0;34m\u001b[0m\u001b[0m\n\u001b[1;32m     48\u001b[0m \u001b[0;34m\u001b[0m\u001b[0m\n\u001b[0;32m---> 49\u001b[0;31m  \u001b[0mmenu\u001b[0m \u001b[0;34m=\u001b[0m \u001b[0minput\u001b[0m\u001b[0;34m(\u001b[0m\u001b[0;34m\"PILIH MENU> \"\u001b[0m\u001b[0;34m)\u001b[0m\u001b[0;34m\u001b[0m\u001b[0;34m\u001b[0m\u001b[0m\n\u001b[0m\u001b[1;32m     50\u001b[0m  \u001b[0mprint\u001b[0m \u001b[0;34m(\u001b[0m\u001b[0;34m\"\\n\"\u001b[0m\u001b[0;34m)\u001b[0m\u001b[0;34m\u001b[0m\u001b[0;34m\u001b[0m\u001b[0m\n\u001b[1;32m     51\u001b[0m  \u001b[0;32mif\u001b[0m \u001b[0mmenu\u001b[0m \u001b[0;34m==\u001b[0m \u001b[0;36m1\u001b[0m\u001b[0;34m:\u001b[0m\u001b[0;34m\u001b[0m\u001b[0;34m\u001b[0m\u001b[0m\n",
            "\u001b[0;32m/usr/local/lib/python3.7/dist-packages/ipykernel/kernelbase.py\u001b[0m in \u001b[0;36mraw_input\u001b[0;34m(self, prompt)\u001b[0m\n\u001b[1;32m    861\u001b[0m             \u001b[0mself\u001b[0m\u001b[0;34m.\u001b[0m\u001b[0m_parent_ident\u001b[0m\u001b[0;34m,\u001b[0m\u001b[0;34m\u001b[0m\u001b[0;34m\u001b[0m\u001b[0m\n\u001b[1;32m    862\u001b[0m             \u001b[0mself\u001b[0m\u001b[0;34m.\u001b[0m\u001b[0m_parent_header\u001b[0m\u001b[0;34m,\u001b[0m\u001b[0;34m\u001b[0m\u001b[0;34m\u001b[0m\u001b[0m\n\u001b[0;32m--> 863\u001b[0;31m             \u001b[0mpassword\u001b[0m\u001b[0;34m=\u001b[0m\u001b[0;32mFalse\u001b[0m\u001b[0;34m,\u001b[0m\u001b[0;34m\u001b[0m\u001b[0;34m\u001b[0m\u001b[0m\n\u001b[0m\u001b[1;32m    864\u001b[0m         )\n\u001b[1;32m    865\u001b[0m \u001b[0;34m\u001b[0m\u001b[0m\n",
            "\u001b[0;32m/usr/local/lib/python3.7/dist-packages/ipykernel/kernelbase.py\u001b[0m in \u001b[0;36m_input_request\u001b[0;34m(self, prompt, ident, parent, password)\u001b[0m\n\u001b[1;32m    902\u001b[0m             \u001b[0;32mexcept\u001b[0m \u001b[0mKeyboardInterrupt\u001b[0m\u001b[0;34m:\u001b[0m\u001b[0;34m\u001b[0m\u001b[0;34m\u001b[0m\u001b[0m\n\u001b[1;32m    903\u001b[0m                 \u001b[0;31m# re-raise KeyboardInterrupt, to truncate traceback\u001b[0m\u001b[0;34m\u001b[0m\u001b[0;34m\u001b[0m\u001b[0;34m\u001b[0m\u001b[0m\n\u001b[0;32m--> 904\u001b[0;31m                 \u001b[0;32mraise\u001b[0m \u001b[0mKeyboardInterrupt\u001b[0m\u001b[0;34m(\u001b[0m\u001b[0;34m\"Interrupted by user\"\u001b[0m\u001b[0;34m)\u001b[0m \u001b[0;32mfrom\u001b[0m \u001b[0;32mNone\u001b[0m\u001b[0;34m\u001b[0m\u001b[0;34m\u001b[0m\u001b[0m\n\u001b[0m\u001b[1;32m    905\u001b[0m             \u001b[0;32mexcept\u001b[0m \u001b[0mException\u001b[0m \u001b[0;32mas\u001b[0m \u001b[0me\u001b[0m\u001b[0;34m:\u001b[0m\u001b[0;34m\u001b[0m\u001b[0;34m\u001b[0m\u001b[0m\n\u001b[1;32m    906\u001b[0m                 \u001b[0mself\u001b[0m\u001b[0;34m.\u001b[0m\u001b[0mlog\u001b[0m\u001b[0;34m.\u001b[0m\u001b[0mwarning\u001b[0m\u001b[0;34m(\u001b[0m\u001b[0;34m\"Invalid Message:\"\u001b[0m\u001b[0;34m,\u001b[0m \u001b[0mexc_info\u001b[0m\u001b[0;34m=\u001b[0m\u001b[0;32mTrue\u001b[0m\u001b[0;34m)\u001b[0m\u001b[0;34m\u001b[0m\u001b[0;34m\u001b[0m\u001b[0m\n",
            "\u001b[0;31mKeyboardInterrupt\u001b[0m: Interrupted by user"
          ]
        }
      ]
    },
    {
      "cell_type": "code",
      "source": [
        "# fungsi untuk edit data\n",
        "def edit_data():\n",
        " show_data()\n",
        " indeks = input(\"Inputkan ID buku: \")\n",
        " if(indeks > len(buku)):\n",
        "  print (\"ID salah\")\n",
        " else:\n",
        "  judul_baru = raw_input(\"Judul baru: \")\n",
        "  buku[indeks] = judul_baru\n"
      ],
      "metadata": {
        "id": "E6J7E127PYo4"
      },
      "execution_count": 11,
      "outputs": []
    },
    {
      "cell_type": "code",
      "source": [],
      "metadata": {
        "id": "ZTCL9Iv_PY31"
      },
      "execution_count": null,
      "outputs": []
    }
  ]
}