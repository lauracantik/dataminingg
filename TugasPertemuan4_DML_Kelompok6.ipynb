{
  "nbformat": 4,
  "nbformat_minor": 0,
  "metadata": {
    "colab": {
      "provenance": [],
      "authorship_tag": "ABX9TyMgZmuhb9RcQSjbMPIzyPSX",
      "include_colab_link": true
    },
    "kernelspec": {
      "name": "python3",
      "display_name": "Python 3"
    },
    "language_info": {
      "name": "python"
    }
  },
  "cells": [
    {
      "cell_type": "markdown",
      "metadata": {
        "id": "view-in-github",
        "colab_type": "text"
      },
      "source": [
        "<a href=\"https://colab.research.google.com/github/lauracantik/dataminingg/blob/main/TugasPertemuan4_DML_Kelompok6.ipynb\" target=\"_parent\"><img src=\"https://colab.research.google.com/assets/colab-badge.svg\" alt=\"Open In Colab\"/></a>"
      ]
    },
    {
      "cell_type": "markdown",
      "source": [
        "MENCARI BILANGAN TERBESAR :"
      ],
      "metadata": {
        "id": "vPQLHI9zjFmF"
      }
    },
    {
      "cell_type": "code",
      "execution_count": 1,
      "metadata": {
        "colab": {
          "base_uri": "https://localhost:8080/"
        },
        "id": "KSN0xt6ufw23",
        "outputId": "5650b82d-bc3e-4621-90ba-69c1b287dcd3"
      },
      "outputs": [
        {
          "output_type": "stream",
          "name": "stdout",
          "text": [
            "Masukkan nilai a: 4\n",
            "Masukkan nilai b: 5\n",
            "Masukkan nilai c: 8\n",
            "C yang terbesar\n"
          ]
        }
      ],
      "source": [
        "a, b, c = (\n",
        " int(input('Masukkan nilai a: ')),\n",
        " int(input('Masukkan nilai b: ')),\n",
        " int(input('Masukkan nilai c: '))\n",
        ")\n",
        "if a > b and a > c:\n",
        " print('A yang terbesar')\n",
        "elif b > a and b > c:\n",
        " print('B yang terbesar')\n",
        "else:\n",
        " print('C yang terbesar')"
      ]
    },
    {
      "cell_type": "markdown",
      "source": [
        "NILAI GANJIL"
      ],
      "metadata": {
        "id": "z_oAogcWjCSO"
      }
    },
    {
      "cell_type": "code",
      "source": [
        "print('Masukkan nilai awal dan nilai akhir')\n",
        "nilai_awal = int(input(' nilai awal: '))\n",
        "nilai_akhir = int(input(' nilai akhir: '))\n",
        "print(\"\"\"\\nTampilkan bilangan\n",
        "1. Ganjil\n",
        "2. Genap\"\"\")\n",
        "pilihan = int(input('Pilihan: '))\n",
        "# periksa kalau pilihan bukan 1 dan 2\n",
        "if pilihan not in [1, 2]:\n",
        " print('Pilihan salah')\n",
        "else:\n",
        " for x in range(nilai_awal, nilai_akhir + 1):\n",
        "  if pilihan == 1 and x % 2 == 1:\n",
        "    print(x, end=' ')\n",
        "  elif pilihan == 2 and x % 2 == 0:\n",
        "    print(x, end=' ')\n",
        "  else:\n",
        " # ganti baris ketika perulangan selesai\n",
        "    print('')"
      ],
      "metadata": {
        "colab": {
          "base_uri": "https://localhost:8080/"
        },
        "id": "OzefAZzugBoD",
        "outputId": "b9f4d135-fbba-4410-ff41-c68fae7317b1"
      },
      "execution_count": 11,
      "outputs": [
        {
          "output_type": "stream",
          "name": "stdout",
          "text": [
            "Masukkan nilai awal dan nilai akhir\n",
            " nilai awal: 5\n",
            " nilai akhir: 10\n",
            "\n",
            "Tampilkan bilangan\n",
            "1. Ganjil\n",
            "2. Genap\n",
            "Pilihan: 1\n",
            "5 \n",
            "7 \n",
            "9 \n"
          ]
        }
      ]
    },
    {
      "cell_type": "markdown",
      "source": [
        "NILAI GENAP"
      ],
      "metadata": {
        "id": "CKXJZaBgmCd9"
      }
    },
    {
      "cell_type": "code",
      "source": [
        "print('Masukkan nilai awal dan nilai akhir')\n",
        "nilai_awal = int(input(' nilai awal: '))\n",
        "nilai_akhir = int(input(' nilai akhir: '))\n",
        "print(\"\"\"\\nTampilkan bilangan\n",
        "1. Ganjil\n",
        "2. Genap\"\"\")\n",
        "pilihan = int(input('Pilihan: '))\n",
        "# periksa kalau pilihan bukan 1 dan 2\n",
        "if pilihan not in [1, 2]:\n",
        " print('Pilihan salah')\n",
        "else:\n",
        " for x in range(nilai_awal, nilai_akhir + 1):\n",
        "  if pilihan == 1 and x % 2 == 1:\n",
        "    print(x, end=' ')\n",
        "  elif pilihan == 2 and x % 2 == 0:\n",
        "    print(x, end=' ')\n",
        "  else:\n",
        " # ganti baris ketika perulangan selesai\n",
        "    print('')"
      ],
      "metadata": {
        "colab": {
          "base_uri": "https://localhost:8080/"
        },
        "id": "D6An6jgzl0bK",
        "outputId": "874bb5b0-cfc7-4225-9b5c-efcfcc4bd2cf"
      },
      "execution_count": 12,
      "outputs": [
        {
          "output_type": "stream",
          "name": "stdout",
          "text": [
            "Masukkan nilai awal dan nilai akhir\n",
            " nilai awal: 10\n",
            " nilai akhir: 30\n",
            "\n",
            "Tampilkan bilangan\n",
            "1. Ganjil\n",
            "2. Genap\n",
            "Pilihan: 2\n",
            "10 \n",
            "12 \n",
            "14 \n",
            "16 \n",
            "18 \n",
            "20 \n",
            "22 \n",
            "24 \n",
            "26 \n",
            "28 \n",
            "30 "
          ]
        }
      ]
    }
  ]
}